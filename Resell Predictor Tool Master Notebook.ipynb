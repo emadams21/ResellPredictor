{
 "cells": [
  {
   "cell_type": "code",
   "execution_count": null,
   "metadata": {},
   "outputs": [],
   "source": [
    "#This is the main Jupyter Note book that walks through the entire process of how I came about my Code.\n",
    "# I will not run these cells so they wont interfere with the notbooks I already set up."
   ]
  },
  {
   "cell_type": "code",
   "execution_count": null,
   "metadata": {},
   "outputs": [],
   "source": [
    "#Importing Packages\n",
    "from sklearn.feature_selection import RFE\n",
    "from sklearn.linear_model import LinearRegression\n",
    "import statsmodels.api as sm \n",
    "from statsmodels.stats.outliers_influence import variance_inflation_factor\n",
    "import datetime as dt\n",
    "import pandas as pd\n",
    "from sklearn import preprocessing, metrics\n",
    "from sklearn.model_selection import train_test_split\n",
    "from sklearn.preprocessing import OneHotEncoder\n",
    "import numpy as np\n",
    "from sklearn.metrics import r2_score\n",
    "from numpy import loadtxt\n",
    "from xgboost import XGBClassifier\n",
    "import seaborn as sns\n",
    "import matplotlib.pyplot as plt\n",
    "import matplotlib.ticker as plticker\n",
    "%matplotlib inline\n",
    "pd.set_option('display.max_columns', None)\n",
    "pd.set_option('display.width', None)\n",
    "pd.set_option('display.max_columns', 50)\n",
    "pd.set_option('display.float_format', lambda x: '%.6f' % x)\n",
    "\n"
   ]
  },
  {
   "cell_type": "code",
   "execution_count": null,
   "metadata": {},
   "outputs": [],
   "source": [
    "# Importing StockX Data Set into varible\n",
    "sneakerData = pd.read_csv('data/StockX-Data-Contest-2019-3.csv')"
   ]
  },
  {
   "cell_type": "code",
   "execution_count": null,
   "metadata": {},
   "outputs": [],
   "source": [
    "#Data Cleaning Cell\n",
    "\n",
    "#Making Sure all Sneaker Names are lowercase to be on the Same accord.\n",
    "sneakerData['Sneaker Name'] = sneakerData['Sneaker Name'].str.lower()\n",
    "\n",
    "#Cleaning the dates column\n",
    "sneakerData['Order Date'] = sneakerData['Order Date'].astype('datetime64[ns]')\n",
    "sneakerData['Release Date'] = sneakerData['Release Date'].astype('datetime64[ns]')\n",
    "sneakerData['Turnover Days'] = sneakerData['Order Date'] - sneakerData['Release Date']\n",
    "\n",
    "#Removing the $ and , From Sale Price and Retial Price to be able to turn into intergers for the future\n",
    "sneakerData['Sale Price'] =  sneakerData['Sale Price'].astype(str).str.replace('$', '')\n",
    "sneakerData['Sale Price'] =  sneakerData['Sale Price'].astype(str).str.replace(',', '')\n",
    "sneakerData['Retail Price'] =  sneakerData['Retail Price'].astype(str).str.replace('$', '')\n",
    "sneakerData['Retail Price'] =  sneakerData['Retail Price'].astype(str).str.replace(',', '')\n",
    "\n",
    "# Making Sales and Retial Price into Int\n",
    "sneakerData['Sale Price'] = sneakerData['Sale Price'].astype(int)\n",
    "sneakerData['Retail Price'] = sneakerData['Retail Price'].astype(int)"
   ]
  },
  {
   "cell_type": "code",
   "execution_count": null,
   "metadata": {},
   "outputs": [],
   "source": [
    "#Adding the Profit Column to possibly compare how future features effects the profitability of the shoe.\n",
    "sneakerData['Profit'] = sneakerData['Sale Price'] - sneakerData['Retail Price']\n",
    "sneakerData['Profit Ratio'] = (sneakerData['Profit'] / sneakerData['Retail Price']).round(2)"
   ]
  },
  {
   "cell_type": "code",
   "execution_count": null,
   "metadata": {},
   "outputs": [],
   "source": [
    "#Configuring and adding the Model Column to do Comparisons by Modeling.\n",
    "sneakerData[\"Model\"] = sneakerData['Sneaker Name'].apply(\n",
    "    lambda x : 'yeezy-boost-350' if 'yeezy' in x.split(\"-\") else (\n",
    "        'air-jordan-1-retro-high' if 'jordan' in x.split('-') else (\n",
    "            'air-force-1' if 'force' in x.split('-') else(\n",
    "                'air-max-90' if '90' in x.split('-') else (\n",
    "                    'air-max-97' if '97' in x.split('-') else (\n",
    "                        'air-presto' if 'presto' in x.split('-') else (\n",
    "                            'air-vapormax' if 'vapormax' in x.split('-') else (\n",
    "                                'blazer-mid' if 'blazer' in x.split('-') else (\n",
    "                                    'react-hyperdunk-2017-flyknit' if 'hyperdunk' in x.split('-') else (\n",
    "                                        'zoom-fly' if 'zoom' in x.split('-') else (np.nan)\n",
    "                                    )\n",
    "                                )\n",
    "                            )\n",
    "                        )\n",
    "                    )\n",
    "                )\n",
    "            )\n",
    "        )\n",
    "    )\n",
    ")"
   ]
  },
  {
   "cell_type": "code",
   "execution_count": null,
   "metadata": {},
   "outputs": [],
   "source": [
    "#check if all the Sneaker Names are categorised into Model Variants\n",
    "uncategorised_model = pd.DataFrame()\n",
    "uncategorised_model[sneakerData['Model'].isnull() == True]\n",
    "print(uncategorised_model)"
   ]
  },
  {
   "cell_type": "code",
   "execution_count": null,
   "metadata": {},
   "outputs": [],
   "source": [
    "#importing the colour information from stockX website, based on each sneaker name\n",
    "colourway = pd.read_excel('data/supplemental_data_colorway.xlsx')\n",
    "colourway['Style'] = colourway['Style'].str.lower()\n",
    "colourway.head()\n",
    "\n",
    "#merging the colourway DF with the sneakerData DF\n",
    "sneakerData = pd.merge(sneakerData,colourway,how='left',left_on='Sneaker Name',right_on='Style')"
   ]
  },
  {
   "cell_type": "code",
   "execution_count": null,
   "metadata": {},
   "outputs": [],
   "source": [
    "#Filling the Null values of Color columns with 0s to be able to self One-Hot-Encode Colors\n",
    "sneakerData['Black'] = sneakerData['Black'].fillna(0)\n",
    "sneakerData['White'] = sneakerData['White'].fillna(0)\n",
    "sneakerData['Green'] = sneakerData['Green'].fillna(0)\n",
    "sneakerData['Neo'] = sneakerData['Neo'].fillna(0)\n",
    "sneakerData['Orange'] = sneakerData['Orange'].fillna(0)\n",
    "sneakerData['Tan/Brown'] = sneakerData['Tan/Brown'].fillna(0)\n",
    "sneakerData['Pink'] = sneakerData['Pink'].fillna(0)\n",
    "sneakerData['Blue'] = sneakerData['Blue'].fillna(0)\n",
    "sneakerData['Colorful'] = sneakerData['Colorful'].fillna(0)"
   ]
  },
  {
   "cell_type": "code",
   "execution_count": null,
   "metadata": {},
   "outputs": [],
   "source": [
    "#Dropping Number of Sales, Website,Product Line,\n",
    "# and Buyer region to because I wanted to focus on the specific shoe features that could possibily be features.\n",
    "\n",
    "parsed_data = sneakerData.drop(['Number of Sales','Website','Product Line','Buyer Region'],axis=1)\n",
    "parsed_data['Turnover Days'] = parsed_data['Turnover Days'].dt.days\n",
    "parsed_data['Turnover Weeks'] = (parsed_data['Turnover Days'] / 7).round(0)\n",
    "parsed_data = parsed_data.drop(parsed_data[parsed_data['Turnover Weeks'] < 0].index)\n",
    "parsed_data = parsed_data.drop(parsed_data[parsed_data['Turnover Weeks'] > 52].index)\n",
    "\n",
    "#consolidating the primary colors into 1 single column\n",
    "def get_col(row):\n",
    "    for color in parsed_data.columns[10:20]:\n",
    "        if row[color] == 1:\n",
    "            return color\n",
    "parsed_data['color'] = parsed_data.apply(get_col, axis=1)\n",
    "parsed_data = parsed_data.replace(0, np.nan)\n"
   ]
  },
  {
   "cell_type": "code",
   "execution_count": null,
   "metadata": {},
   "outputs": [],
   "source": [
    "#Saving Clean Data into new features.\n",
    "parsed_data.to_csv('parsed_data.csv')"
   ]
  },
  {
   "cell_type": "code",
   "execution_count": null,
   "metadata": {},
   "outputs": [],
   "source": []
  }
 ],
 "metadata": {
  "kernelspec": {
   "display_name": "Python 3",
   "language": "python",
   "name": "python3"
  },
  "language_info": {
   "codemirror_mode": {
    "name": "ipython",
    "version": 3
   },
   "file_extension": ".py",
   "mimetype": "text/x-python",
   "name": "python",
   "nbconvert_exporter": "python",
   "pygments_lexer": "ipython3",
   "version": "3.8.5"
  }
 },
 "nbformat": 4,
 "nbformat_minor": 4
}
