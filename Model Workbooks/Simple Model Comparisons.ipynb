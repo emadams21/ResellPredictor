{
 "cells": [
  {
   "cell_type": "code",
   "execution_count": 1,
   "metadata": {},
   "outputs": [],
   "source": [
    "#Importing Packages\n",
    "from sklearn.feature_selection import RFE\n",
    "from sklearn.linear_model import LinearRegression\n",
    "import statsmodels.api as sm \n",
    "from statsmodels.stats.outliers_influence import variance_inflation_factor\n",
    "import datetime as dt\n",
    "import pandas as pd\n",
    "from sklearn import preprocessing, metrics\n",
    "from sklearn.model_selection import train_test_split\n",
    "from sklearn.preprocessing import OneHotEncoder\n",
    "import numpy as np\n",
    "from sklearn.metrics import r2_score\n",
    "from numpy import loadtxt\n",
    "from xgboost import XGBClassifier\n",
    "import seaborn as sns\n",
    "import matplotlib.pyplot as plt\n",
    "import matplotlib.ticker as plticker\n",
    "%matplotlib inline\n",
    "\n",
    "GroupedShoes = pd.read_csv('data/GroupedShoes.csv', index_col = 0)"
   ]
  },
  {
   "cell_type": "code",
   "execution_count": 2,
   "metadata": {},
   "outputs": [
    {
     "data": {
      "text/html": [
       "<div>\n",
       "<style scoped>\n",
       "    .dataframe tbody tr th:only-of-type {\n",
       "        vertical-align: middle;\n",
       "    }\n",
       "\n",
       "    .dataframe tbody tr th {\n",
       "        vertical-align: top;\n",
       "    }\n",
       "\n",
       "    .dataframe thead th {\n",
       "        text-align: right;\n",
       "    }\n",
       "</style>\n",
       "<table border=\"1\" class=\"dataframe\">\n",
       "  <thead>\n",
       "    <tr style=\"text-align: right;\">\n",
       "      <th></th>\n",
       "      <th>Sneaker Name</th>\n",
       "      <th>Shoe Size</th>\n",
       "      <th>Retail Price</th>\n",
       "      <th>Resell Price</th>\n",
       "      <th>Release Date</th>\n",
       "      <th>Order Date</th>\n",
       "      <th>Red</th>\n",
       "      <th>Black</th>\n",
       "      <th>White</th>\n",
       "      <th>Green</th>\n",
       "      <th>Neo</th>\n",
       "      <th>Orange</th>\n",
       "      <th>Tan/Brown</th>\n",
       "      <th>Pink</th>\n",
       "      <th>Blue</th>\n",
       "      <th>Colorful</th>\n",
       "      <th>release_season</th>\n",
       "      <th>release_year</th>\n",
       "      <th>order_season</th>\n",
       "      <th>order_year</th>\n",
       "    </tr>\n",
       "  </thead>\n",
       "  <tbody>\n",
       "    <tr>\n",
       "      <th>0</th>\n",
       "      <td>adidas-yeezy-boost-350-low-v2-beluga</td>\n",
       "      <td>4.0</td>\n",
       "      <td>220</td>\n",
       "      <td>746.500000</td>\n",
       "      <td>2016-09-24</td>\n",
       "      <td>2017-09-07</td>\n",
       "      <td>0.0</td>\n",
       "      <td>0.0</td>\n",
       "      <td>0.0</td>\n",
       "      <td>0.0</td>\n",
       "      <td>0.0</td>\n",
       "      <td>1.0</td>\n",
       "      <td>0.0</td>\n",
       "      <td>0.0</td>\n",
       "      <td>0.0</td>\n",
       "      <td>0.0</td>\n",
       "      <td>Fall 2016</td>\n",
       "      <td>2016</td>\n",
       "      <td>Fall 2016</td>\n",
       "      <td>2017</td>\n",
       "    </tr>\n",
       "    <tr>\n",
       "      <th>1</th>\n",
       "      <td>adidas-yeezy-boost-350-low-v2-beluga</td>\n",
       "      <td>6.0</td>\n",
       "      <td>220</td>\n",
       "      <td>897.500000</td>\n",
       "      <td>2016-09-24</td>\n",
       "      <td>2017-09-05</td>\n",
       "      <td>0.0</td>\n",
       "      <td>0.0</td>\n",
       "      <td>0.0</td>\n",
       "      <td>0.0</td>\n",
       "      <td>0.0</td>\n",
       "      <td>1.0</td>\n",
       "      <td>0.0</td>\n",
       "      <td>0.0</td>\n",
       "      <td>0.0</td>\n",
       "      <td>0.0</td>\n",
       "      <td>Fall 2016</td>\n",
       "      <td>2016</td>\n",
       "      <td>Fall 2016</td>\n",
       "      <td>2017</td>\n",
       "    </tr>\n",
       "    <tr>\n",
       "      <th>2</th>\n",
       "      <td>adidas-yeezy-boost-350-low-v2-beluga</td>\n",
       "      <td>6.5</td>\n",
       "      <td>220</td>\n",
       "      <td>900.000000</td>\n",
       "      <td>2016-09-24</td>\n",
       "      <td>2017-09-25</td>\n",
       "      <td>0.0</td>\n",
       "      <td>0.0</td>\n",
       "      <td>0.0</td>\n",
       "      <td>0.0</td>\n",
       "      <td>0.0</td>\n",
       "      <td>1.0</td>\n",
       "      <td>0.0</td>\n",
       "      <td>0.0</td>\n",
       "      <td>0.0</td>\n",
       "      <td>0.0</td>\n",
       "      <td>Fall 2016</td>\n",
       "      <td>2016</td>\n",
       "      <td>Fall 2016</td>\n",
       "      <td>2017</td>\n",
       "    </tr>\n",
       "    <tr>\n",
       "      <th>3</th>\n",
       "      <td>adidas-yeezy-boost-350-low-v2-beluga</td>\n",
       "      <td>7.0</td>\n",
       "      <td>220</td>\n",
       "      <td>795.000000</td>\n",
       "      <td>2016-09-24</td>\n",
       "      <td>2017-09-15</td>\n",
       "      <td>0.0</td>\n",
       "      <td>0.0</td>\n",
       "      <td>0.0</td>\n",
       "      <td>0.0</td>\n",
       "      <td>0.0</td>\n",
       "      <td>1.0</td>\n",
       "      <td>0.0</td>\n",
       "      <td>0.0</td>\n",
       "      <td>0.0</td>\n",
       "      <td>0.0</td>\n",
       "      <td>Fall 2016</td>\n",
       "      <td>2016</td>\n",
       "      <td>Fall 2016</td>\n",
       "      <td>2017</td>\n",
       "    </tr>\n",
       "    <tr>\n",
       "      <th>4</th>\n",
       "      <td>adidas-yeezy-boost-350-low-v2-beluga</td>\n",
       "      <td>7.5</td>\n",
       "      <td>220</td>\n",
       "      <td>832.000000</td>\n",
       "      <td>2016-09-24</td>\n",
       "      <td>2017-09-06</td>\n",
       "      <td>0.0</td>\n",
       "      <td>0.0</td>\n",
       "      <td>0.0</td>\n",
       "      <td>0.0</td>\n",
       "      <td>0.0</td>\n",
       "      <td>1.0</td>\n",
       "      <td>0.0</td>\n",
       "      <td>0.0</td>\n",
       "      <td>0.0</td>\n",
       "      <td>0.0</td>\n",
       "      <td>Fall 2016</td>\n",
       "      <td>2016</td>\n",
       "      <td>Fall 2016</td>\n",
       "      <td>2017</td>\n",
       "    </tr>\n",
       "    <tr>\n",
       "      <th>...</th>\n",
       "      <td>...</td>\n",
       "      <td>...</td>\n",
       "      <td>...</td>\n",
       "      <td>...</td>\n",
       "      <td>...</td>\n",
       "      <td>...</td>\n",
       "      <td>...</td>\n",
       "      <td>...</td>\n",
       "      <td>...</td>\n",
       "      <td>...</td>\n",
       "      <td>...</td>\n",
       "      <td>...</td>\n",
       "      <td>...</td>\n",
       "      <td>...</td>\n",
       "      <td>...</td>\n",
       "      <td>...</td>\n",
       "      <td>...</td>\n",
       "      <td>...</td>\n",
       "      <td>...</td>\n",
       "      <td>...</td>\n",
       "    </tr>\n",
       "    <tr>\n",
       "      <th>831</th>\n",
       "      <td>nike-zoom-fly-off-white-pink</td>\n",
       "      <td>12.0</td>\n",
       "      <td>170</td>\n",
       "      <td>272.490385</td>\n",
       "      <td>2018-11-28</td>\n",
       "      <td>2018-11-27</td>\n",
       "      <td>0.0</td>\n",
       "      <td>0.0</td>\n",
       "      <td>0.0</td>\n",
       "      <td>0.0</td>\n",
       "      <td>0.0</td>\n",
       "      <td>0.0</td>\n",
       "      <td>0.0</td>\n",
       "      <td>1.0</td>\n",
       "      <td>0.0</td>\n",
       "      <td>0.0</td>\n",
       "      <td>Fall 2018</td>\n",
       "      <td>2018</td>\n",
       "      <td>Fall 2018</td>\n",
       "      <td>2018</td>\n",
       "    </tr>\n",
       "    <tr>\n",
       "      <th>832</th>\n",
       "      <td>nike-zoom-fly-off-white-pink</td>\n",
       "      <td>12.5</td>\n",
       "      <td>170</td>\n",
       "      <td>297.142857</td>\n",
       "      <td>2018-11-28</td>\n",
       "      <td>2018-12-02</td>\n",
       "      <td>0.0</td>\n",
       "      <td>0.0</td>\n",
       "      <td>0.0</td>\n",
       "      <td>0.0</td>\n",
       "      <td>0.0</td>\n",
       "      <td>0.0</td>\n",
       "      <td>0.0</td>\n",
       "      <td>1.0</td>\n",
       "      <td>0.0</td>\n",
       "      <td>0.0</td>\n",
       "      <td>Fall 2018</td>\n",
       "      <td>2018</td>\n",
       "      <td>Winter 2018</td>\n",
       "      <td>2018</td>\n",
       "    </tr>\n",
       "    <tr>\n",
       "      <th>833</th>\n",
       "      <td>nike-zoom-fly-off-white-pink</td>\n",
       "      <td>13.0</td>\n",
       "      <td>170</td>\n",
       "      <td>272.000000</td>\n",
       "      <td>2018-11-28</td>\n",
       "      <td>2018-11-28</td>\n",
       "      <td>0.0</td>\n",
       "      <td>0.0</td>\n",
       "      <td>0.0</td>\n",
       "      <td>0.0</td>\n",
       "      <td>0.0</td>\n",
       "      <td>0.0</td>\n",
       "      <td>0.0</td>\n",
       "      <td>1.0</td>\n",
       "      <td>0.0</td>\n",
       "      <td>0.0</td>\n",
       "      <td>Fall 2018</td>\n",
       "      <td>2018</td>\n",
       "      <td>Fall 2018</td>\n",
       "      <td>2018</td>\n",
       "    </tr>\n",
       "    <tr>\n",
       "      <th>834</th>\n",
       "      <td>nike-zoom-fly-off-white-pink</td>\n",
       "      <td>14.0</td>\n",
       "      <td>170</td>\n",
       "      <td>307.400000</td>\n",
       "      <td>2018-11-28</td>\n",
       "      <td>2018-11-28</td>\n",
       "      <td>0.0</td>\n",
       "      <td>0.0</td>\n",
       "      <td>0.0</td>\n",
       "      <td>0.0</td>\n",
       "      <td>0.0</td>\n",
       "      <td>0.0</td>\n",
       "      <td>0.0</td>\n",
       "      <td>1.0</td>\n",
       "      <td>0.0</td>\n",
       "      <td>0.0</td>\n",
       "      <td>Fall 2018</td>\n",
       "      <td>2018</td>\n",
       "      <td>Fall 2018</td>\n",
       "      <td>2018</td>\n",
       "    </tr>\n",
       "    <tr>\n",
       "      <th>835</th>\n",
       "      <td>nike-zoom-fly-off-white-pink</td>\n",
       "      <td>15.0</td>\n",
       "      <td>170</td>\n",
       "      <td>301.666667</td>\n",
       "      <td>2018-11-28</td>\n",
       "      <td>2018-11-29</td>\n",
       "      <td>0.0</td>\n",
       "      <td>0.0</td>\n",
       "      <td>0.0</td>\n",
       "      <td>0.0</td>\n",
       "      <td>0.0</td>\n",
       "      <td>0.0</td>\n",
       "      <td>0.0</td>\n",
       "      <td>1.0</td>\n",
       "      <td>0.0</td>\n",
       "      <td>0.0</td>\n",
       "      <td>Fall 2018</td>\n",
       "      <td>2018</td>\n",
       "      <td>Fall 2018</td>\n",
       "      <td>2018</td>\n",
       "    </tr>\n",
       "  </tbody>\n",
       "</table>\n",
       "<p>836 rows × 20 columns</p>\n",
       "</div>"
      ],
      "text/plain": [
       "                             Sneaker Name  Shoe Size  Retail Price  \\\n",
       "0    adidas-yeezy-boost-350-low-v2-beluga        4.0           220   \n",
       "1    adidas-yeezy-boost-350-low-v2-beluga        6.0           220   \n",
       "2    adidas-yeezy-boost-350-low-v2-beluga        6.5           220   \n",
       "3    adidas-yeezy-boost-350-low-v2-beluga        7.0           220   \n",
       "4    adidas-yeezy-boost-350-low-v2-beluga        7.5           220   \n",
       "..                                    ...        ...           ...   \n",
       "831          nike-zoom-fly-off-white-pink       12.0           170   \n",
       "832          nike-zoom-fly-off-white-pink       12.5           170   \n",
       "833          nike-zoom-fly-off-white-pink       13.0           170   \n",
       "834          nike-zoom-fly-off-white-pink       14.0           170   \n",
       "835          nike-zoom-fly-off-white-pink       15.0           170   \n",
       "\n",
       "     Resell Price Release Date  Order Date  Red  Black  White  Green  Neo  \\\n",
       "0      746.500000   2016-09-24  2017-09-07  0.0    0.0    0.0    0.0  0.0   \n",
       "1      897.500000   2016-09-24  2017-09-05  0.0    0.0    0.0    0.0  0.0   \n",
       "2      900.000000   2016-09-24  2017-09-25  0.0    0.0    0.0    0.0  0.0   \n",
       "3      795.000000   2016-09-24  2017-09-15  0.0    0.0    0.0    0.0  0.0   \n",
       "4      832.000000   2016-09-24  2017-09-06  0.0    0.0    0.0    0.0  0.0   \n",
       "..            ...          ...         ...  ...    ...    ...    ...  ...   \n",
       "831    272.490385   2018-11-28  2018-11-27  0.0    0.0    0.0    0.0  0.0   \n",
       "832    297.142857   2018-11-28  2018-12-02  0.0    0.0    0.0    0.0  0.0   \n",
       "833    272.000000   2018-11-28  2018-11-28  0.0    0.0    0.0    0.0  0.0   \n",
       "834    307.400000   2018-11-28  2018-11-28  0.0    0.0    0.0    0.0  0.0   \n",
       "835    301.666667   2018-11-28  2018-11-29  0.0    0.0    0.0    0.0  0.0   \n",
       "\n",
       "     Orange  Tan/Brown  Pink  Blue  Colorful release_season  release_year  \\\n",
       "0       1.0        0.0   0.0   0.0       0.0      Fall 2016          2016   \n",
       "1       1.0        0.0   0.0   0.0       0.0      Fall 2016          2016   \n",
       "2       1.0        0.0   0.0   0.0       0.0      Fall 2016          2016   \n",
       "3       1.0        0.0   0.0   0.0       0.0      Fall 2016          2016   \n",
       "4       1.0        0.0   0.0   0.0       0.0      Fall 2016          2016   \n",
       "..      ...        ...   ...   ...       ...            ...           ...   \n",
       "831     0.0        0.0   1.0   0.0       0.0      Fall 2018          2018   \n",
       "832     0.0        0.0   1.0   0.0       0.0      Fall 2018          2018   \n",
       "833     0.0        0.0   1.0   0.0       0.0      Fall 2018          2018   \n",
       "834     0.0        0.0   1.0   0.0       0.0      Fall 2018          2018   \n",
       "835     0.0        0.0   1.0   0.0       0.0      Fall 2018          2018   \n",
       "\n",
       "    order_season  order_year  \n",
       "0      Fall 2016        2017  \n",
       "1      Fall 2016        2017  \n",
       "2      Fall 2016        2017  \n",
       "3      Fall 2016        2017  \n",
       "4      Fall 2016        2017  \n",
       "..           ...         ...  \n",
       "831    Fall 2018        2018  \n",
       "832  Winter 2018        2018  \n",
       "833    Fall 2018        2018  \n",
       "834    Fall 2018        2018  \n",
       "835    Fall 2018        2018  \n",
       "\n",
       "[836 rows x 20 columns]"
      ]
     },
     "execution_count": 2,
     "metadata": {},
     "output_type": "execute_result"
    }
   ],
   "source": [
    "GroupedShoes"
   ]
  },
  {
   "cell_type": "code",
   "execution_count": 3,
   "metadata": {},
   "outputs": [],
   "source": [
    "X = GroupedShoes.drop(['Resell Price',\"release_year\",\"order_year\",'Release Date','Order Date'], axis=1)\n",
    "y = GroupedShoes['Resell Price']\n",
    "X_train, X_test, y_train, y_test = train_test_split(X, y, test_size=0.3)"
   ]
  },
  {
   "cell_type": "code",
   "execution_count": 4,
   "metadata": {},
   "outputs": [
    {
     "data": {
      "text/plain": [
       "(585, 15)"
      ]
     },
     "execution_count": 4,
     "metadata": {},
     "output_type": "execute_result"
    }
   ],
   "source": [
    "X_train.shape"
   ]
  },
  {
   "cell_type": "code",
   "execution_count": 5,
   "metadata": {},
   "outputs": [],
   "source": [
    "# Converting categorical data to numerical\n",
    "from sklearn.preprocessing import OneHotEncoder\n",
    "\n",
    "object_cols = ['Sneaker Name','release_season','order_season']\n",
    "# Apply one-hot encoder to each column with categorical data\n",
    "OH_encoder = OneHotEncoder(handle_unknown='ignore', sparse=False)\n",
    "OH_cols_train = pd.DataFrame(OH_encoder.fit_transform(X_train[object_cols]))\n",
    "OH_cols_test = pd.DataFrame(OH_encoder.transform(X_test[object_cols]))\n",
    "\n",
    "# One-hot encoding removed index; put it back\n",
    "OH_cols_train.index = X_train.index\n",
    "OH_cols_test.index = X_test.index\n",
    "\n",
    "# # Adding the column names after one hot encoding\n",
    "OH_cols_train.columns = OH_encoder.get_feature_names(object_cols)\n",
    "OH_cols_test.columns = OH_encoder.get_feature_names(object_cols)\n",
    "\n",
    "# Remove categorical columns (will replace with one-hot encoding)\n",
    "num_X_train = X_train.drop(object_cols, axis=1)\n",
    "num_X_test = X_test.drop(object_cols, axis=1)\n",
    "\n",
    "# Add one-hot encoded columns to numerical features\n",
    "X_train = pd.concat([num_X_train, OH_cols_train], axis=1)\n",
    "X_test = pd.concat([num_X_test, OH_cols_test], axis=1)"
   ]
  },
  {
   "cell_type": "code",
   "execution_count": 6,
   "metadata": {},
   "outputs": [],
   "source": [
    "#MODEL TESTING\n",
    "#1. Linear Regression\n",
    "#2. OLS Regression\n",
    "#3. RandomForestRegressor\n",
    "#4. DecisionTreeRegressor\n",
    "#5. XGBoost"
   ]
  },
  {
   "cell_type": "code",
   "execution_count": 7,
   "metadata": {},
   "outputs": [],
   "source": [
    "#Linear Regression "
   ]
  },
  {
   "cell_type": "code",
   "execution_count": 8,
   "metadata": {},
   "outputs": [
    {
     "data": {
      "text/plain": [
       "LinearRegression()"
      ]
     },
     "execution_count": 8,
     "metadata": {},
     "output_type": "execute_result"
    }
   ],
   "source": [
    "from sklearn.linear_model import LinearRegression\n",
    "\n",
    "lm = LinearRegression()\n",
    "lm.fit(X_train,y_train)"
   ]
  },
  {
   "cell_type": "code",
   "execution_count": 9,
   "metadata": {},
   "outputs": [
    {
     "name": "stdout",
     "output_type": "stream",
     "text": [
      "1048.9706379040576\n"
     ]
    }
   ],
   "source": [
    "# Looking at y-int\n",
    "print(lm.intercept_)"
   ]
  },
  {
   "cell_type": "code",
   "execution_count": 10,
   "metadata": {},
   "outputs": [
    {
     "name": "stdout",
     "output_type": "stream",
     "text": [
      "MAE: 74.41781760658341\n",
      "MSE: 18964.816413927594\n",
      "RMSE: 137.71280410305934\n"
     ]
    }
   ],
   "source": [
    "# Storing predictions and running evaluation metrics\n",
    "predictions = lm.predict(X_test)\n",
    "from sklearn import metrics\n",
    "print(\"MAE:\", metrics.mean_absolute_error(y_test, predictions))\n",
    "print('MSE:', metrics.mean_squared_error(y_test, predictions))\n",
    "print('RMSE:', np.sqrt(metrics.mean_squared_error(y_test, predictions)))"
   ]
  },
  {
   "cell_type": "code",
   "execution_count": 11,
   "metadata": {},
   "outputs": [],
   "source": [
    "#OLS Regression\n",
    "def build_model(X,y):\n",
    "    X = sm.add_constant(X) #Adding the constant\n",
    "    model = sm.OLS(y, X)\n",
    "    results = model.fit() # fitting the model\n",
    "    print(results.summary()) # model summary\n",
    "    return X\n",
    "    \n",
    "def checkVIF(X):\n",
    "    vif = pd.DataFrame()\n",
    "    vif['Features'] = X.columns\n",
    "    vif['VIF'] = [variance_inflation_factor(X.values, i) for i in range(X.shape[1])]\n",
    "    vif['VIF'] = round(vif['VIF'], 2)\n",
    "    vif = vif.sort_values(by = \"VIF\", ascending = False)\n",
    "    return(vif)"
   ]
  },
  {
   "cell_type": "code",
   "execution_count": 12,
   "metadata": {},
   "outputs": [
    {
     "name": "stdout",
     "output_type": "stream",
     "text": [
      "                            OLS Regression Results                            \n",
      "==============================================================================\n",
      "Dep. Variable:           Resell Price   R-squared:                       0.892\n",
      "Model:                            OLS   Adj. R-squared:                  0.866\n",
      "Method:                 Least Squares   F-statistic:                     34.72\n",
      "Date:                Sat, 25 Mar 2023   Prob (F-statistic):           1.20e-74\n",
      "Time:                        17:08:49   Log-Likelihood:                -1553.6\n",
      "No. Observations:                 251   AIC:                             3205.\n",
      "Df Residuals:                     202   BIC:                             3378.\n",
      "Df Model:                          48                                         \n",
      "Covariance Type:            nonrobust                                         \n",
      "==================================================================================================================================\n",
      "                                                                     coef    std err          t      P>|t|      [0.025      0.975]\n",
      "----------------------------------------------------------------------------------------------------------------------------------\n",
      "const                                                            376.0590     33.695     11.161      0.000     309.619     442.499\n",
      "Shoe Size                                                          9.3739      2.850      3.289      0.001       3.755      14.993\n",
      "Retail Price                                                      -0.6184      0.207     -2.986      0.003      -1.027      -0.210\n",
      "Red                                                              447.4817     24.304     18.412      0.000     399.560     495.403\n",
      "Black                                                             92.1622     22.807      4.041      0.000      47.192     137.132\n",
      "White                                                            311.7421     24.068     12.952      0.000     264.285     359.200\n",
      "Green                                                            -38.9829     40.682     -0.958      0.339    -119.199      41.233\n",
      "Neo                                                                6.2771     25.632      0.245      0.807     -44.264      56.818\n",
      "Orange                                                            69.5443     28.471      2.443      0.015      13.405     125.683\n",
      "Tan/Brown                                                        -60.8815     31.096     -1.958      0.052    -122.196       0.433\n",
      "Pink                                                               6.4716     34.275      0.189      0.850     -61.111      74.054\n",
      "Blue                                                              91.5828     29.921      3.061      0.003      32.584     150.581\n",
      "Colorful                                                         107.4813     22.049      4.875      0.000      64.005     150.957\n",
      "Sneaker Name_adidas-yeezy-boost-350-low-v2-beluga                321.8469     45.500      7.074      0.000     232.131     411.563\n",
      "Sneaker Name_adidas-yeezy-boost-350-v2-beluga-2pt0              -208.3213     45.983     -4.530      0.000    -298.990    -117.653\n",
      "Sneaker Name_adidas-yeezy-boost-350-v2-blue-tint                -256.8053     48.361     -5.310      0.000    -352.162    -161.449\n",
      "Sneaker Name_adidas-yeezy-boost-350-v2-butter                    -84.2490     60.755     -1.387      0.167    -204.043      35.545\n",
      "Sneaker Name_adidas-yeezy-boost-350-v2-core-black-copper         -57.3363     54.873     -1.045      0.297    -165.534      50.861\n",
      "Sneaker Name_adidas-yeezy-boost-350-v2-core-black-green          -38.9829     40.682     -0.958      0.339    -119.199      41.233\n",
      "Sneaker Name_adidas-yeezy-boost-350-v2-core-black-red            -60.8105     38.002     -1.600      0.111    -135.742      14.121\n",
      "Sneaker Name_adidas-yeezy-boost-350-v2-core-black-red-2017       142.5898     29.764      4.791      0.000      83.902     201.278\n",
      "Sneaker Name_adidas-yeezy-boost-350-v2-core-black-white          -29.3800     23.557     -1.247      0.214     -75.830      17.070\n",
      "Sneaker Name_adidas-yeezy-boost-350-v2-cream-white               -44.5981     23.114     -1.929      0.055     -90.175       0.978\n",
      "Sneaker Name_adidas-yeezy-boost-350-v2-semi-frozen-yellow        -10.4334     34.532     -0.302      0.763     -78.523      57.656\n",
      "Sneaker Name_adidas-yeezy-boost-350-v2-sesame                   -123.9921     52.393     -2.367      0.019    -227.299     -20.685\n",
      "Sneaker Name_adidas-yeezy-boost-350-v2-static                   -243.2407     40.121     -6.063      0.000    -322.351    -164.130\n",
      "Sneaker Name_adidas-yeezy-boost-350-v2-static-reflective         -70.3431     38.532     -1.826      0.069    -146.320       5.634\n",
      "Sneaker Name_adidas-yeezy-boost-350-v2-zebra                      -2.7702     43.196     -0.064      0.949     -87.944      82.404\n",
      "Sneaker Name_air-jordan-1-retro-high-off-white-chicago           365.7024     37.405      9.777      0.000     291.949     439.456\n",
      "Sneaker Name_air-jordan-1-retro-high-off-white-university-blue   234.2152     41.885      5.592      0.000     151.627     316.803\n",
      "Sneaker Name_air-jordan-1-retro-high-off-white-white             820.6396     42.491     19.313      0.000     736.856     904.423\n",
      "Sneaker Name_nike-air-force-1-low-off-white                      -25.0914     44.473     -0.564      0.573    -112.782      62.599\n",
      "Sneaker Name_nike-air-force-1-low-off-white-black-white          140.6430     47.798      2.942      0.004      46.397     234.889\n",
      "Sneaker Name_nike-air-force-1-low-off-white-volt                  16.7105     33.108      0.505      0.614     -48.571      81.992\n",
      "Sneaker Name_nike-air-force-1-low-virgil-abloh-off-white-af100   222.2537     84.600      2.627      0.009      55.442     389.066\n",
      "Sneaker Name_nike-air-max-90-off-white                          -142.6324     31.035     -4.596      0.000    -203.827     -81.437\n",
      "Sneaker Name_nike-air-max-90-off-white-black                     -27.2966     38.838     -0.703      0.483    -103.876      49.282\n",
      "Sneaker Name_nike-air-max-90-off-white-desert-ore                 81.7509     43.070      1.898      0.059      -3.174     166.675\n",
      "Sneaker Name_nike-air-max-97-off-white                            -1.2334     46.646     -0.026      0.979     -93.208      90.742\n",
      "Sneaker Name_nike-air-max-97-off-white-black                     122.5716     82.195      1.491      0.137     -39.499     284.642\n",
      "Sneaker Name_nike-air-max-97-off-white-elemental-rose-queen       74.7705     49.305      1.516      0.131     -22.448     171.989\n",
      "Sneaker Name_nike-air-max-97-off-white-menta                     399.9636     53.787      7.436      0.000     293.907     506.020\n",
      "Sneaker Name_nike-air-presto-off-white                           409.7221     78.455      5.222      0.000     255.026     564.418\n",
      "Sneaker Name_nike-air-presto-off-white-black-2018                210.2052     62.472      3.365      0.001      87.025     333.386\n",
      "Sneaker Name_nike-air-presto-off-white-white-2018                -76.0565     65.420     -1.163      0.246    -205.051      52.938\n",
      "Sneaker Name_nike-air-vapormax-off-white                          66.5775     49.407      1.348      0.179     -30.843     163.998\n",
      "Sneaker Name_nike-air-vapormax-off-white-2018                   -444.8489     41.032    -10.842      0.000    -525.754    -363.944\n",
      "Sneaker Name_nike-air-vapormax-off-white-black                  -167.8789     40.854     -4.109      0.000    -248.433     -87.325\n",
      "Sneaker Name_nike-blazer-mid-off-white                          -102.8885     48.133     -2.138      0.034    -197.797      -7.980\n",
      "Sneaker Name_nike-blazer-mid-off-white-all-hallows-eve           -31.2461     40.370     -0.774      0.440    -110.847      48.355\n",
      "Sneaker Name_nike-blazer-mid-off-white-grim-reaper                -5.6367     66.829     -0.084      0.933    -137.408     126.135\n",
      "Sneaker Name_nike-blazer-mid-off-white-wolf-grey                  85.0020     85.862      0.990      0.323     -84.299     254.303\n",
      "Sneaker Name_nike-react-hyperdunk-2017-flyknit-off-white        -232.4248     55.891     -4.159      0.000    -342.630    -122.219\n",
      "Sneaker Name_nike-zoom-fly-mercurial-off-white-black            -117.8107     51.304     -2.296      0.023    -218.970     -16.651\n",
      "Sneaker Name_nike-zoom-fly-mercurial-off-white-total-orange     -163.7202     46.585     -3.514      0.001    -255.574     -71.866\n",
      "Sneaker Name_nike-zoom-fly-off-white                            -209.8255     85.686     -2.449      0.015    -378.780     -40.871\n",
      "Sneaker Name_nike-zoom-fly-off-white-black-silver               -205.9511     61.468     -3.351      0.001    -327.152     -84.750\n",
      "Sneaker Name_nike-zoom-fly-off-white-pink                       -153.3009     40.456     -3.789      0.000    -233.070     -73.531\n",
      "release_season_Fall 2016                                         164.7172     20.629      7.985      0.000     124.041     205.394\n",
      "release_season_Fall 2017                                         131.4050     17.794      7.385      0.000      96.320     166.490\n",
      "release_season_Fall 2018                                           2.4082     45.342      0.053      0.958     -86.996      91.813\n",
      "release_season_Spring 2017                                       -44.5981     23.114     -1.929      0.055     -90.175       0.978\n",
      "release_season_Spring 2018                                       207.9118     13.835     15.028      0.000     180.632     235.192\n",
      "release_season_Summer 2018                                       162.3565     78.322      2.073      0.039       7.924     316.789\n",
      "release_season_Winter 2016                                       -29.3800     23.557     -1.247      0.214     -75.830      17.070\n",
      "release_season_Winter 2017                                      -116.9857     20.502     -5.706      0.000    -157.411     -76.561\n",
      "release_season_Winter 2018                                      -156.2302     64.078     -2.438      0.016    -282.577     -29.883\n",
      "release_season_Winter 2019                                        54.4542     17.817      3.056      0.003      19.322      89.586\n",
      "order_season_Fall 2016                                           135.3372     17.855      7.580      0.000     100.132     170.543\n",
      "order_season_Fall 2017                                           -65.9628     19.011     -3.470      0.001    -103.449     -28.477\n",
      "order_season_Fall 2018                                            63.0630     55.777      1.131      0.260     -46.918     173.044\n",
      "order_season_Spring 2017                                                0          0        nan        nan           0           0\n",
      "order_season_Spring 2018                                         207.9118     13.835     15.028      0.000     180.632     235.192\n",
      "order_season_Summer 2017                                                0          0        nan        nan           0           0\n",
      "order_season_Summer 2018                                        -126.7986    100.241     -1.265      0.207    -324.451      70.854\n",
      "order_season_Winter 2016                                                0          0        nan        nan           0           0\n",
      "order_season_Winter 2017                                          35.7840     25.258      1.417      0.158     -14.019      85.587\n",
      "order_season_Winter 2018                                          72.2701     76.592      0.944      0.347     -78.753     223.293\n",
      "order_season_Winter 2019                                          54.4542     17.817      3.056      0.003      19.322      89.586\n",
      "==============================================================================\n",
      "Omnibus:                      216.162   Durbin-Watson:                   1.875\n",
      "Prob(Omnibus):                  0.000   Jarque-Bera (JB):             7959.401\n",
      "Skew:                           3.062   Prob(JB):                         0.00\n",
      "Kurtosis:                      29.899   Cond. No.                     2.55e+17\n",
      "==============================================================================\n",
      "\n",
      "Notes:\n",
      "[1] Standard Errors assume that the covariance matrix of the errors is correctly specified.\n",
      "[2] The smallest eigenvalue is 1.5e-28. This might indicate that there are\n",
      "strong multicollinearity problems or that the design matrix is singular.\n"
     ]
    }
   ],
   "source": [
    "X_train_new = build_model(X_test,y_test)"
   ]
  },
  {
   "cell_type": "code",
   "execution_count": 13,
   "metadata": {},
   "outputs": [],
   "source": [
    "# SETING UP MODEL PIPELINE"
   ]
  },
  {
   "cell_type": "code",
   "execution_count": 14,
   "metadata": {},
   "outputs": [],
   "source": [
    "from sklearn.ensemble import RandomForestRegressor\n",
    "import xgboost as xgb\n",
    "from sklearn.tree import DecisionTreeRegressor"
   ]
  },
  {
   "cell_type": "code",
   "execution_count": 15,
   "metadata": {},
   "outputs": [],
   "source": [
    "# Setting up pipelines\n",
    "\n",
    "from sklearn.pipeline import Pipeline\n",
    "# Decision Tree Regression Pipeline\n",
    "pipeline_dtr=Pipeline([('dtr', DecisionTreeRegressor(random_state=27))])\n",
    "\n",
    "# Random Forest Pipeline\n",
    "pipeline_randomforest=Pipeline([('rf_regressor',RandomForestRegressor(random_state=27))])\n",
    "\n",
    "# XGBost Pipeline\n",
    "pipeline_xgb=Pipeline([('xgb_regressor',xgb.XGBRegressor(objective=\"reg:linear\", random_state=27))])"
   ]
  },
  {
   "cell_type": "code",
   "execution_count": 16,
   "metadata": {},
   "outputs": [
    {
     "name": "stdout",
     "output_type": "stream",
     "text": [
      "[17:08:49] WARNING: C:/Users/Administrator/workspace/xgboost-win64_release_1.2.0/src/objective/regression_obj.cu:174: reg:linear is now deprecated in favor of reg:squarederror.\n",
      "[17:08:49] WARNING: C:/Users/Administrator/workspace/xgboost-win64_release_1.2.0/src/objective/regression_obj.cu:174: reg:linear is now deprecated in favor of reg:squarederror.\n",
      "DTR Test Accuracy: 0.8100631987602473\n",
      "XGBoost Test Accuracy: 0.8729225523653492\n",
      "RandomForest Test Accuracy: 0.8690904649743976\n",
      "Model with best accuracy: XGBoost\n"
     ]
    }
   ],
   "source": [
    "# Creating a list of the pipelines to loop through them\n",
    "pipelines = [pipeline_dtr, pipeline_xgb, pipeline_randomforest]\n",
    "\n",
    "best_accuracy=0.0\n",
    "best_regressor=0\n",
    "best_pipeline=\"\"\n",
    "\n",
    "# Dictionary of pipelines and regression types for ease of reference\n",
    "pipe_dict = {0: 'DTR', 1: 'XGBoost', 2: 'RandomForest'}\n",
    "\n",
    "# Fit the pipelines\n",
    "for pipe in pipelines:\n",
    "\tpipe.fit(X_train, y_train)\n",
    "\n",
    "from sklearn.metrics import accuracy_score\n",
    "# Checking the accuracy of each model\n",
    "for i,model in enumerate(pipelines):\n",
    "    print(\"{} Test Accuracy: {}\".format(pipe_dict[i],model.score(X_test,y_test)))\n",
    "\n",
    "# Finding the best model\n",
    "for i,model in enumerate(pipelines):\n",
    "    if model.score(X_test,y_test)>best_accuracy:\n",
    "        best_accuracy=model.score(X_test,y_test)\n",
    "        best_pipeline=model\n",
    "        best_regressor=i\n",
    "print('Model with best accuracy: {}'.format(pipe_dict[best_regressor]))"
   ]
  },
  {
   "cell_type": "code",
   "execution_count": 17,
   "metadata": {},
   "outputs": [],
   "source": [
    "#Hyperparameters\n",
    "#Random Forest Regresson"
   ]
  },
  {
   "cell_type": "code",
   "execution_count": 18,
   "metadata": {},
   "outputs": [],
   "source": [
    "from sklearn.model_selection import RandomizedSearchCV\n",
    "from pprint import pprint"
   ]
  },
  {
   "cell_type": "code",
   "execution_count": 19,
   "metadata": {},
   "outputs": [
    {
     "name": "stdout",
     "output_type": "stream",
     "text": [
      "{'max_depth': [10, 20, 30, 40, 50, 60, 70, 80, 90, 100, None],\n",
      " 'max_features': ['auto', 'sqrt'],\n",
      " 'min_samples_leaf': [1, 2, 5, 10],\n",
      " 'min_samples_split': [2, 5, 10, 15, 25, 50, 75, 100],\n",
      " 'n_estimators': [200, 400, 600, 800, 1000, 1200, 1400, 1600, 1800, 2000]}\n"
     ]
    }
   ],
   "source": [
    "# Using Randomized Search CV to find the best parameters\n",
    "\n",
    "# Number of trees in random forest\n",
    "n_estimators = [200, 400, 600, 800, 1000, 1200, 1400, 1600, 1800, 2000]\n",
    "# Number of features to consider at every split\n",
    "max_features = ['auto', 'sqrt']\n",
    "# Maximum number of levels in tree\n",
    "max_depth = [10, 20, 30, 40, 50, 60, 70, 80, 90, 100, None]\n",
    "# max_depth.append(None)\n",
    "# Minimum number of samples required to split a node\n",
    "min_samples_split = [2, 5, 10, 15, 25, 50, 75, 100]\n",
    "# Minimum number of samples required at each leaf node\n",
    "min_samples_leaf = [1, 2, 5, 10]\n",
    "# Method of selecting samples for training each tree\n",
    "# bootstrap = [True, False]\n",
    "\n",
    "# Create the random grid\n",
    "random_grid = {'n_estimators': n_estimators,\n",
    "               'max_features': max_features,\n",
    "               'max_depth': max_depth,\n",
    "               'min_samples_split': min_samples_split,\n",
    "               'min_samples_leaf': min_samples_leaf}\n",
    "\n",
    "pprint(random_grid)"
   ]
  },
  {
   "cell_type": "code",
   "execution_count": 20,
   "metadata": {},
   "outputs": [
    {
     "name": "stdout",
     "output_type": "stream",
     "text": [
      "Fitting 3 folds for each of 10 candidates, totalling 30 fits\n"
     ]
    },
    {
     "name": "stderr",
     "output_type": "stream",
     "text": [
      "[Parallel(n_jobs=-1)]: Using backend LokyBackend with 16 concurrent workers.\n",
      "[Parallel(n_jobs=-1)]: Done  15 out of  30 | elapsed:   10.1s remaining:   10.1s\n",
      "[Parallel(n_jobs=-1)]: Done  30 out of  30 | elapsed:   13.7s finished\n"
     ]
    },
    {
     "data": {
      "text/plain": [
       "RandomizedSearchCV(cv=3, estimator=RandomForestRegressor(random_state=27),\n",
       "                   n_jobs=-1,\n",
       "                   param_distributions={'max_depth': [10, 20, 30, 40, 50, 60,\n",
       "                                                      70, 80, 90, 100, None],\n",
       "                                        'max_features': ['auto', 'sqrt'],\n",
       "                                        'min_samples_leaf': [1, 2, 5, 10],\n",
       "                                        'min_samples_split': [2, 5, 10, 15, 25,\n",
       "                                                              50, 75, 100],\n",
       "                                        'n_estimators': [200, 400, 600, 800,\n",
       "                                                         1000, 1200, 1400, 1600,\n",
       "                                                         1800, 2000]},\n",
       "                   random_state=27, verbose=2)"
      ]
     },
     "execution_count": 20,
     "metadata": {},
     "output_type": "execute_result"
    }
   ],
   "source": [
    "\n",
    "rf = RandomForestRegressor(random_state=27)\n",
    "rf_random = RandomizedSearchCV(estimator = rf, param_distributions = random_grid, n_iter = 10, cv = 3, verbose=2, random_state=27, n_jobs = -1)\n",
    "\n",
    "# Fit the random search model\n",
    "\n",
    "rf_random.fit(X_train, y_train)"
   ]
  },
  {
   "cell_type": "code",
   "execution_count": 21,
   "metadata": {},
   "outputs": [],
   "source": [
    "# Evaluation of Random Search\n",
    "def evaluate(model, X_test, y_test):\n",
    "    predictions = model.predict(X_test)\n",
    "    errors = np.sqrt(mean_squared_error(y_test, predictions))\n",
    "    print('Model Performance')\n",
    "    print('MSE of: ', errors)\n",
    "    \n",
    "    return errors"
   ]
  },
  {
   "cell_type": "code",
   "execution_count": 22,
   "metadata": {},
   "outputs": [
    {
     "name": "stdout",
     "output_type": "stream",
     "text": [
      "Model Performance\n",
      "MSE of:  129.87471950663937\n",
      "Model Performance\n",
      "MSE of:  123.9319280848777\n",
      "\n",
      "\n",
      "Base Model Error:  129.87471950663937\n",
      "\n",
      "\n",
      "Improved Model Error:  123.9319280848777\n",
      "Improvement of -0.05%.\n",
      "\n",
      "\n",
      "RF_Randomized_Search_CV is complete.\n",
      "\n",
      "\n"
     ]
    }
   ],
   "source": [
    "from sklearn.metrics import mean_squared_error\n",
    "base_model = rf\n",
    "base_model.fit(X_train, y_train)\n",
    "base_accuracy = evaluate(base_model, X_test, y_test)\n",
    "\n",
    "\n",
    "best_random = rf_random.best_estimator_\n",
    "best_random.fit(X_train , y_train)\n",
    "\n",
    "random_accuracy = evaluate(best_random, X_test, y_test)\n",
    "\n",
    "print('\\n')\n",
    "print('Base Model Error: ', base_accuracy)\n",
    "print('\\n')\n",
    "print('Improved Model Error: ', random_accuracy)\n",
    "print('Improvement of {:0.2f}%.'.format((random_accuracy - base_accuracy) / base_accuracy))\n",
    "\n",
    "print('\\n')\n",
    "print('RF_Randomized_Search_CV is complete.')\n",
    "print('\\n')"
   ]
  },
  {
   "cell_type": "code",
   "execution_count": 23,
   "metadata": {},
   "outputs": [
    {
     "name": "stdout",
     "output_type": "stream",
     "text": [
      "The best model is RandomForestRegressor(max_depth=90, min_samples_split=5, n_estimators=2000,\n",
      "                      random_state=27)\n"
     ]
    }
   ],
   "source": [
    "print('The best model is',rf_random.best_estimator_)"
   ]
  },
  {
   "cell_type": "code",
   "execution_count": 24,
   "metadata": {},
   "outputs": [
    {
     "name": "stdout",
     "output_type": "stream",
     "text": [
      "0.8922062557264252\n"
     ]
    }
   ],
   "source": [
    "print( rf_random.best_score_)"
   ]
  },
  {
   "cell_type": "code",
   "execution_count": 25,
   "metadata": {},
   "outputs": [
    {
     "name": "stdout",
     "output_type": "stream",
     "text": [
      "MAE scores:\n",
      " [52.64438816 62.41029283 93.76126764 89.27846779 53.43686537]\n",
      "Average MAE Resell Price (across experiments):\n",
      "\n",
      "70.30625635655448\n"
     ]
    }
   ],
   "source": [
    "from sklearn.model_selection import cross_val_score\n",
    "\n",
    "# Multiply by -1 since sklearn calculates *negative* MAE\n",
    "scores = -1 * cross_val_score(best_random, X_test, y_test,\n",
    "                              cv=5,\n",
    "                              scoring='neg_mean_absolute_error')\n",
    "\n",
    "print(\"MAE scores:\\n\", scores)\n",
    "print(\"Average MAE Resell Price (across experiments):\\n\")\n",
    "print(scores.mean())"
   ]
  },
  {
   "cell_type": "code",
   "execution_count": 26,
   "metadata": {},
   "outputs": [],
   "source": [
    "# Saving model to disk\n",
    "import pickle\n",
    "pickle.dump(best_random, open('data/Resellmodel.pkl','wb'))\n",
    "\n",
    "# Loading model to compare the results\n",
    "model = pickle.load(open('data/Resellmodel.pkl','rb'))\n",
    "\n"
   ]
  },
  {
   "cell_type": "code",
   "execution_count": 28,
   "metadata": {},
   "outputs": [
    {
     "data": {
      "text/plain": [
       "RandomForestRegressor(max_depth=90, min_samples_split=5, n_estimators=2000,\n",
       "                      random_state=27)"
      ]
     },
     "execution_count": 28,
     "metadata": {},
     "output_type": "execute_result"
    }
   ],
   "source": [
    "model"
   ]
  }
 ],
 "metadata": {
  "kernelspec": {
   "display_name": "Python 3",
   "language": "python",
   "name": "python3"
  },
  "language_info": {
   "codemirror_mode": {
    "name": "ipython",
    "version": 3
   },
   "file_extension": ".py",
   "mimetype": "text/x-python",
   "name": "python",
   "nbconvert_exporter": "python",
   "pygments_lexer": "ipython3",
   "version": "3.8.5"
  }
 },
 "nbformat": 4,
 "nbformat_minor": 4
}
